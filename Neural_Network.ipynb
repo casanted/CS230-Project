{
  "nbformat": 4,
  "nbformat_minor": 0,
  "metadata": {
    "colab": {
      "name": "Neural_Network.ipynb",
      "provenance": [],
      "collapsed_sections": []
    },
    "kernelspec": {
      "name": "python3",
      "display_name": "Python 3"
    },
    "language_info": {
      "name": "python"
    },
    "widgets": {
      "application/vnd.jupyter.widget-state+json": {
        "8258ec533dcb42a3b050cd752b610510": {
          "model_module": "@jupyter-widgets/controls",
          "model_name": "HBoxModel",
          "model_module_version": "1.5.0",
          "state": {
            "_dom_classes": [],
            "_model_module": "@jupyter-widgets/controls",
            "_model_module_version": "1.5.0",
            "_model_name": "HBoxModel",
            "_view_count": null,
            "_view_module": "@jupyter-widgets/controls",
            "_view_module_version": "1.5.0",
            "_view_name": "HBoxView",
            "box_style": "",
            "children": [
              "IPY_MODEL_8678a407afc143819b3060b0e7ef8478",
              "IPY_MODEL_80b99ee77ddf4fe6b3023952f6383b87",
              "IPY_MODEL_6451a735e2f6457798dbf74ecb48f1ce"
            ],
            "layout": "IPY_MODEL_3d0c21a1a28343a48106840a9f7de579"
          }
        },
        "8678a407afc143819b3060b0e7ef8478": {
          "model_module": "@jupyter-widgets/controls",
          "model_name": "HTMLModel",
          "model_module_version": "1.5.0",
          "state": {
            "_dom_classes": [],
            "_model_module": "@jupyter-widgets/controls",
            "_model_module_version": "1.5.0",
            "_model_name": "HTMLModel",
            "_view_count": null,
            "_view_module": "@jupyter-widgets/controls",
            "_view_module_version": "1.5.0",
            "_view_name": "HTMLView",
            "description": "",
            "description_tooltip": null,
            "layout": "IPY_MODEL_d8f1a4978511486ebe1beacc24bae17d",
            "placeholder": "​",
            "style": "IPY_MODEL_0eb343b4b76143b9a67e0915c22cedf5",
            "value": "100%"
          }
        },
        "80b99ee77ddf4fe6b3023952f6383b87": {
          "model_module": "@jupyter-widgets/controls",
          "model_name": "FloatProgressModel",
          "model_module_version": "1.5.0",
          "state": {
            "_dom_classes": [],
            "_model_module": "@jupyter-widgets/controls",
            "_model_module_version": "1.5.0",
            "_model_name": "FloatProgressModel",
            "_view_count": null,
            "_view_module": "@jupyter-widgets/controls",
            "_view_module_version": "1.5.0",
            "_view_name": "ProgressView",
            "bar_style": "success",
            "description": "",
            "description_tooltip": null,
            "layout": "IPY_MODEL_e1473678346441838eefb0a485dd6337",
            "max": 14668,
            "min": 0,
            "orientation": "horizontal",
            "style": "IPY_MODEL_81da653da6064aae9ca304c4a7016a5c",
            "value": 14668
          }
        },
        "6451a735e2f6457798dbf74ecb48f1ce": {
          "model_module": "@jupyter-widgets/controls",
          "model_name": "HTMLModel",
          "model_module_version": "1.5.0",
          "state": {
            "_dom_classes": [],
            "_model_module": "@jupyter-widgets/controls",
            "_model_module_version": "1.5.0",
            "_model_name": "HTMLModel",
            "_view_count": null,
            "_view_module": "@jupyter-widgets/controls",
            "_view_module_version": "1.5.0",
            "_view_name": "HTMLView",
            "description": "",
            "description_tooltip": null,
            "layout": "IPY_MODEL_ba6ac0a4dfa048d2a334946f7cdf8638",
            "placeholder": "​",
            "style": "IPY_MODEL_00ff912e737543a296ca5c832c146bde",
            "value": " 14668/14668 [19:24&lt;00:00, 16.03it/s]"
          }
        },
        "3d0c21a1a28343a48106840a9f7de579": {
          "model_module": "@jupyter-widgets/base",
          "model_name": "LayoutModel",
          "model_module_version": "1.2.0",
          "state": {
            "_model_module": "@jupyter-widgets/base",
            "_model_module_version": "1.2.0",
            "_model_name": "LayoutModel",
            "_view_count": null,
            "_view_module": "@jupyter-widgets/base",
            "_view_module_version": "1.2.0",
            "_view_name": "LayoutView",
            "align_content": null,
            "align_items": null,
            "align_self": null,
            "border": null,
            "bottom": null,
            "display": null,
            "flex": null,
            "flex_flow": null,
            "grid_area": null,
            "grid_auto_columns": null,
            "grid_auto_flow": null,
            "grid_auto_rows": null,
            "grid_column": null,
            "grid_gap": null,
            "grid_row": null,
            "grid_template_areas": null,
            "grid_template_columns": null,
            "grid_template_rows": null,
            "height": null,
            "justify_content": null,
            "justify_items": null,
            "left": null,
            "margin": null,
            "max_height": null,
            "max_width": null,
            "min_height": null,
            "min_width": null,
            "object_fit": null,
            "object_position": null,
            "order": null,
            "overflow": null,
            "overflow_x": null,
            "overflow_y": null,
            "padding": null,
            "right": null,
            "top": null,
            "visibility": null,
            "width": null
          }
        },
        "d8f1a4978511486ebe1beacc24bae17d": {
          "model_module": "@jupyter-widgets/base",
          "model_name": "LayoutModel",
          "model_module_version": "1.2.0",
          "state": {
            "_model_module": "@jupyter-widgets/base",
            "_model_module_version": "1.2.0",
            "_model_name": "LayoutModel",
            "_view_count": null,
            "_view_module": "@jupyter-widgets/base",
            "_view_module_version": "1.2.0",
            "_view_name": "LayoutView",
            "align_content": null,
            "align_items": null,
            "align_self": null,
            "border": null,
            "bottom": null,
            "display": null,
            "flex": null,
            "flex_flow": null,
            "grid_area": null,
            "grid_auto_columns": null,
            "grid_auto_flow": null,
            "grid_auto_rows": null,
            "grid_column": null,
            "grid_gap": null,
            "grid_row": null,
            "grid_template_areas": null,
            "grid_template_columns": null,
            "grid_template_rows": null,
            "height": null,
            "justify_content": null,
            "justify_items": null,
            "left": null,
            "margin": null,
            "max_height": null,
            "max_width": null,
            "min_height": null,
            "min_width": null,
            "object_fit": null,
            "object_position": null,
            "order": null,
            "overflow": null,
            "overflow_x": null,
            "overflow_y": null,
            "padding": null,
            "right": null,
            "top": null,
            "visibility": null,
            "width": null
          }
        },
        "0eb343b4b76143b9a67e0915c22cedf5": {
          "model_module": "@jupyter-widgets/controls",
          "model_name": "DescriptionStyleModel",
          "model_module_version": "1.5.0",
          "state": {
            "_model_module": "@jupyter-widgets/controls",
            "_model_module_version": "1.5.0",
            "_model_name": "DescriptionStyleModel",
            "_view_count": null,
            "_view_module": "@jupyter-widgets/base",
            "_view_module_version": "1.2.0",
            "_view_name": "StyleView",
            "description_width": ""
          }
        },
        "e1473678346441838eefb0a485dd6337": {
          "model_module": "@jupyter-widgets/base",
          "model_name": "LayoutModel",
          "model_module_version": "1.2.0",
          "state": {
            "_model_module": "@jupyter-widgets/base",
            "_model_module_version": "1.2.0",
            "_model_name": "LayoutModel",
            "_view_count": null,
            "_view_module": "@jupyter-widgets/base",
            "_view_module_version": "1.2.0",
            "_view_name": "LayoutView",
            "align_content": null,
            "align_items": null,
            "align_self": null,
            "border": null,
            "bottom": null,
            "display": null,
            "flex": null,
            "flex_flow": null,
            "grid_area": null,
            "grid_auto_columns": null,
            "grid_auto_flow": null,
            "grid_auto_rows": null,
            "grid_column": null,
            "grid_gap": null,
            "grid_row": null,
            "grid_template_areas": null,
            "grid_template_columns": null,
            "grid_template_rows": null,
            "height": null,
            "justify_content": null,
            "justify_items": null,
            "left": null,
            "margin": null,
            "max_height": null,
            "max_width": null,
            "min_height": null,
            "min_width": null,
            "object_fit": null,
            "object_position": null,
            "order": null,
            "overflow": null,
            "overflow_x": null,
            "overflow_y": null,
            "padding": null,
            "right": null,
            "top": null,
            "visibility": null,
            "width": null
          }
        },
        "81da653da6064aae9ca304c4a7016a5c": {
          "model_module": "@jupyter-widgets/controls",
          "model_name": "ProgressStyleModel",
          "model_module_version": "1.5.0",
          "state": {
            "_model_module": "@jupyter-widgets/controls",
            "_model_module_version": "1.5.0",
            "_model_name": "ProgressStyleModel",
            "_view_count": null,
            "_view_module": "@jupyter-widgets/base",
            "_view_module_version": "1.2.0",
            "_view_name": "StyleView",
            "bar_color": null,
            "description_width": ""
          }
        },
        "ba6ac0a4dfa048d2a334946f7cdf8638": {
          "model_module": "@jupyter-widgets/base",
          "model_name": "LayoutModel",
          "model_module_version": "1.2.0",
          "state": {
            "_model_module": "@jupyter-widgets/base",
            "_model_module_version": "1.2.0",
            "_model_name": "LayoutModel",
            "_view_count": null,
            "_view_module": "@jupyter-widgets/base",
            "_view_module_version": "1.2.0",
            "_view_name": "LayoutView",
            "align_content": null,
            "align_items": null,
            "align_self": null,
            "border": null,
            "bottom": null,
            "display": null,
            "flex": null,
            "flex_flow": null,
            "grid_area": null,
            "grid_auto_columns": null,
            "grid_auto_flow": null,
            "grid_auto_rows": null,
            "grid_column": null,
            "grid_gap": null,
            "grid_row": null,
            "grid_template_areas": null,
            "grid_template_columns": null,
            "grid_template_rows": null,
            "height": null,
            "justify_content": null,
            "justify_items": null,
            "left": null,
            "margin": null,
            "max_height": null,
            "max_width": null,
            "min_height": null,
            "min_width": null,
            "object_fit": null,
            "object_position": null,
            "order": null,
            "overflow": null,
            "overflow_x": null,
            "overflow_y": null,
            "padding": null,
            "right": null,
            "top": null,
            "visibility": null,
            "width": null
          }
        },
        "00ff912e737543a296ca5c832c146bde": {
          "model_module": "@jupyter-widgets/controls",
          "model_name": "DescriptionStyleModel",
          "model_module_version": "1.5.0",
          "state": {
            "_model_module": "@jupyter-widgets/controls",
            "_model_module_version": "1.5.0",
            "_model_name": "DescriptionStyleModel",
            "_view_count": null,
            "_view_module": "@jupyter-widgets/base",
            "_view_module_version": "1.2.0",
            "_view_name": "StyleView",
            "description_width": ""
          }
        },
        "95081083383e4c93a00d823e7cc97d21": {
          "model_module": "@jupyter-widgets/controls",
          "model_name": "HBoxModel",
          "model_module_version": "1.5.0",
          "state": {
            "_dom_classes": [],
            "_model_module": "@jupyter-widgets/controls",
            "_model_module_version": "1.5.0",
            "_model_name": "HBoxModel",
            "_view_count": null,
            "_view_module": "@jupyter-widgets/controls",
            "_view_module_version": "1.5.0",
            "_view_name": "HBoxView",
            "box_style": "",
            "children": [
              "IPY_MODEL_148d8c6bed234550873676e6efc49731",
              "IPY_MODEL_5f73d404f54649a5a0e90a4aa847066d",
              "IPY_MODEL_2dec5ac58894400889434e83af2b022f"
            ],
            "layout": "IPY_MODEL_8b7c325c7e3a43c1923fb2352b79d62a"
          }
        },
        "148d8c6bed234550873676e6efc49731": {
          "model_module": "@jupyter-widgets/controls",
          "model_name": "HTMLModel",
          "model_module_version": "1.5.0",
          "state": {
            "_dom_classes": [],
            "_model_module": "@jupyter-widgets/controls",
            "_model_module_version": "1.5.0",
            "_model_name": "HTMLModel",
            "_view_count": null,
            "_view_module": "@jupyter-widgets/controls",
            "_view_module_version": "1.5.0",
            "_view_name": "HTMLView",
            "description": "",
            "description_tooltip": null,
            "layout": "IPY_MODEL_20ce723c6e6d4aaaac67e2b08109b933",
            "placeholder": "​",
            "style": "IPY_MODEL_8bbb7f66940242a3ab968e96bfcb002d",
            "value": ""
          }
        },
        "5f73d404f54649a5a0e90a4aa847066d": {
          "model_module": "@jupyter-widgets/controls",
          "model_name": "FloatProgressModel",
          "model_module_version": "1.5.0",
          "state": {
            "_dom_classes": [],
            "_model_module": "@jupyter-widgets/controls",
            "_model_module_version": "1.5.0",
            "_model_name": "FloatProgressModel",
            "_view_count": null,
            "_view_module": "@jupyter-widgets/controls",
            "_view_module_version": "1.5.0",
            "_view_name": "ProgressView",
            "bar_style": "success",
            "description": "",
            "description_tooltip": null,
            "layout": "IPY_MODEL_51054284d2a842d3bea83e4de9ecde42",
            "max": 1,
            "min": 0,
            "orientation": "horizontal",
            "style": "IPY_MODEL_03d21835f0cb41eaa013f8733ec5a82a",
            "value": 0
          }
        },
        "2dec5ac58894400889434e83af2b022f": {
          "model_module": "@jupyter-widgets/controls",
          "model_name": "HTMLModel",
          "model_module_version": "1.5.0",
          "state": {
            "_dom_classes": [],
            "_model_module": "@jupyter-widgets/controls",
            "_model_module_version": "1.5.0",
            "_model_name": "HTMLModel",
            "_view_count": null,
            "_view_module": "@jupyter-widgets/controls",
            "_view_module_version": "1.5.0",
            "_view_name": "HTMLView",
            "description": "",
            "description_tooltip": null,
            "layout": "IPY_MODEL_8fe7b07cb6d84352b9a39f5a23aa7007",
            "placeholder": "​",
            "style": "IPY_MODEL_f8d116f881a24c42b1d9240513ee393d",
            "value": " 0/? [00:00&lt;?, ?it/s]"
          }
        },
        "8b7c325c7e3a43c1923fb2352b79d62a": {
          "model_module": "@jupyter-widgets/base",
          "model_name": "LayoutModel",
          "model_module_version": "1.2.0",
          "state": {
            "_model_module": "@jupyter-widgets/base",
            "_model_module_version": "1.2.0",
            "_model_name": "LayoutModel",
            "_view_count": null,
            "_view_module": "@jupyter-widgets/base",
            "_view_module_version": "1.2.0",
            "_view_name": "LayoutView",
            "align_content": null,
            "align_items": null,
            "align_self": null,
            "border": null,
            "bottom": null,
            "display": null,
            "flex": null,
            "flex_flow": null,
            "grid_area": null,
            "grid_auto_columns": null,
            "grid_auto_flow": null,
            "grid_auto_rows": null,
            "grid_column": null,
            "grid_gap": null,
            "grid_row": null,
            "grid_template_areas": null,
            "grid_template_columns": null,
            "grid_template_rows": null,
            "height": null,
            "justify_content": null,
            "justify_items": null,
            "left": null,
            "margin": null,
            "max_height": null,
            "max_width": null,
            "min_height": null,
            "min_width": null,
            "object_fit": null,
            "object_position": null,
            "order": null,
            "overflow": null,
            "overflow_x": null,
            "overflow_y": null,
            "padding": null,
            "right": null,
            "top": null,
            "visibility": null,
            "width": null
          }
        },
        "20ce723c6e6d4aaaac67e2b08109b933": {
          "model_module": "@jupyter-widgets/base",
          "model_name": "LayoutModel",
          "model_module_version": "1.2.0",
          "state": {
            "_model_module": "@jupyter-widgets/base",
            "_model_module_version": "1.2.0",
            "_model_name": "LayoutModel",
            "_view_count": null,
            "_view_module": "@jupyter-widgets/base",
            "_view_module_version": "1.2.0",
            "_view_name": "LayoutView",
            "align_content": null,
            "align_items": null,
            "align_self": null,
            "border": null,
            "bottom": null,
            "display": null,
            "flex": null,
            "flex_flow": null,
            "grid_area": null,
            "grid_auto_columns": null,
            "grid_auto_flow": null,
            "grid_auto_rows": null,
            "grid_column": null,
            "grid_gap": null,
            "grid_row": null,
            "grid_template_areas": null,
            "grid_template_columns": null,
            "grid_template_rows": null,
            "height": null,
            "justify_content": null,
            "justify_items": null,
            "left": null,
            "margin": null,
            "max_height": null,
            "max_width": null,
            "min_height": null,
            "min_width": null,
            "object_fit": null,
            "object_position": null,
            "order": null,
            "overflow": null,
            "overflow_x": null,
            "overflow_y": null,
            "padding": null,
            "right": null,
            "top": null,
            "visibility": null,
            "width": null
          }
        },
        "8bbb7f66940242a3ab968e96bfcb002d": {
          "model_module": "@jupyter-widgets/controls",
          "model_name": "DescriptionStyleModel",
          "model_module_version": "1.5.0",
          "state": {
            "_model_module": "@jupyter-widgets/controls",
            "_model_module_version": "1.5.0",
            "_model_name": "DescriptionStyleModel",
            "_view_count": null,
            "_view_module": "@jupyter-widgets/base",
            "_view_module_version": "1.2.0",
            "_view_name": "StyleView",
            "description_width": ""
          }
        },
        "51054284d2a842d3bea83e4de9ecde42": {
          "model_module": "@jupyter-widgets/base",
          "model_name": "LayoutModel",
          "model_module_version": "1.2.0",
          "state": {
            "_model_module": "@jupyter-widgets/base",
            "_model_module_version": "1.2.0",
            "_model_name": "LayoutModel",
            "_view_count": null,
            "_view_module": "@jupyter-widgets/base",
            "_view_module_version": "1.2.0",
            "_view_name": "LayoutView",
            "align_content": null,
            "align_items": null,
            "align_self": null,
            "border": null,
            "bottom": null,
            "display": null,
            "flex": null,
            "flex_flow": null,
            "grid_area": null,
            "grid_auto_columns": null,
            "grid_auto_flow": null,
            "grid_auto_rows": null,
            "grid_column": null,
            "grid_gap": null,
            "grid_row": null,
            "grid_template_areas": null,
            "grid_template_columns": null,
            "grid_template_rows": null,
            "height": null,
            "justify_content": null,
            "justify_items": null,
            "left": null,
            "margin": null,
            "max_height": null,
            "max_width": null,
            "min_height": null,
            "min_width": null,
            "object_fit": null,
            "object_position": null,
            "order": null,
            "overflow": null,
            "overflow_x": null,
            "overflow_y": null,
            "padding": null,
            "right": null,
            "top": null,
            "visibility": null,
            "width": "20px"
          }
        },
        "03d21835f0cb41eaa013f8733ec5a82a": {
          "model_module": "@jupyter-widgets/controls",
          "model_name": "ProgressStyleModel",
          "model_module_version": "1.5.0",
          "state": {
            "_model_module": "@jupyter-widgets/controls",
            "_model_module_version": "1.5.0",
            "_model_name": "ProgressStyleModel",
            "_view_count": null,
            "_view_module": "@jupyter-widgets/base",
            "_view_module_version": "1.2.0",
            "_view_name": "StyleView",
            "bar_color": null,
            "description_width": ""
          }
        },
        "8fe7b07cb6d84352b9a39f5a23aa7007": {
          "model_module": "@jupyter-widgets/base",
          "model_name": "LayoutModel",
          "model_module_version": "1.2.0",
          "state": {
            "_model_module": "@jupyter-widgets/base",
            "_model_module_version": "1.2.0",
            "_model_name": "LayoutModel",
            "_view_count": null,
            "_view_module": "@jupyter-widgets/base",
            "_view_module_version": "1.2.0",
            "_view_name": "LayoutView",
            "align_content": null,
            "align_items": null,
            "align_self": null,
            "border": null,
            "bottom": null,
            "display": null,
            "flex": null,
            "flex_flow": null,
            "grid_area": null,
            "grid_auto_columns": null,
            "grid_auto_flow": null,
            "grid_auto_rows": null,
            "grid_column": null,
            "grid_gap": null,
            "grid_row": null,
            "grid_template_areas": null,
            "grid_template_columns": null,
            "grid_template_rows": null,
            "height": null,
            "justify_content": null,
            "justify_items": null,
            "left": null,
            "margin": null,
            "max_height": null,
            "max_width": null,
            "min_height": null,
            "min_width": null,
            "object_fit": null,
            "object_position": null,
            "order": null,
            "overflow": null,
            "overflow_x": null,
            "overflow_y": null,
            "padding": null,
            "right": null,
            "top": null,
            "visibility": null,
            "width": null
          }
        },
        "f8d116f881a24c42b1d9240513ee393d": {
          "model_module": "@jupyter-widgets/controls",
          "model_name": "DescriptionStyleModel",
          "model_module_version": "1.5.0",
          "state": {
            "_model_module": "@jupyter-widgets/controls",
            "_model_module_version": "1.5.0",
            "_model_name": "DescriptionStyleModel",
            "_view_count": null,
            "_view_module": "@jupyter-widgets/base",
            "_view_module_version": "1.2.0",
            "_view_name": "StyleView",
            "description_width": ""
          }
        }
      }
    },
    "accelerator": "GPU"
  },
  "cells": [
    {
      "cell_type": "code",
      "execution_count": null,
      "metadata": {
        "id": "6PU7J2RMo_fr",
        "colab": {
          "base_uri": "https://localhost:8080/",
          "height": 1000
        },
        "outputId": "0e391f32-15c2-4bd2-cbb9-4cd1bb4ead21"
      },
      "outputs": [
        {
          "output_type": "stream",
          "name": "stdout",
          "text": [
            "Looking in indexes: https://pypi.org/simple, https://us-python.pkg.dev/colab-wheels/public/simple/\n",
            "Requirement already satisfied: TensorFlow in /usr/local/lib/python3.7/dist-packages (2.8.0+zzzcolab20220506162203)\n",
            "Requirement already satisfied: protobuf>=3.9.2 in /usr/local/lib/python3.7/dist-packages (from TensorFlow) (3.17.3)\n",
            "Requirement already satisfied: typing-extensions>=3.6.6 in /usr/local/lib/python3.7/dist-packages (from TensorFlow) (4.2.0)\n",
            "Requirement already satisfied: opt-einsum>=2.3.2 in /usr/local/lib/python3.7/dist-packages (from TensorFlow) (3.3.0)\n",
            "Requirement already satisfied: h5py>=2.9.0 in /usr/local/lib/python3.7/dist-packages (from TensorFlow) (3.1.0)\n",
            "Requirement already satisfied: keras-preprocessing>=1.1.1 in /usr/local/lib/python3.7/dist-packages (from TensorFlow) (1.1.2)\n",
            "Collecting tf-estimator-nightly==2.8.0.dev2021122109\n",
            "  Downloading tf_estimator_nightly-2.8.0.dev2021122109-py2.py3-none-any.whl (462 kB)\n",
            "\u001b[K     |████████████████████████████████| 462 kB 19.6 MB/s \n",
            "\u001b[?25hRequirement already satisfied: google-pasta>=0.1.1 in /usr/local/lib/python3.7/dist-packages (from TensorFlow) (0.2.0)\n",
            "Requirement already satisfied: keras<2.9,>=2.8.0rc0 in /usr/local/lib/python3.7/dist-packages (from TensorFlow) (2.8.0)\n",
            "Requirement already satisfied: tensorflow-io-gcs-filesystem>=0.23.1 in /usr/local/lib/python3.7/dist-packages (from TensorFlow) (0.26.0)\n",
            "Requirement already satisfied: libclang>=9.0.1 in /usr/local/lib/python3.7/dist-packages (from TensorFlow) (14.0.1)\n",
            "Requirement already satisfied: termcolor>=1.1.0 in /usr/local/lib/python3.7/dist-packages (from TensorFlow) (1.1.0)\n",
            "Requirement already satisfied: grpcio<2.0,>=1.24.3 in /usr/local/lib/python3.7/dist-packages (from TensorFlow) (1.46.1)\n",
            "Requirement already satisfied: astunparse>=1.6.0 in /usr/local/lib/python3.7/dist-packages (from TensorFlow) (1.6.3)\n",
            "Requirement already satisfied: flatbuffers>=1.12 in /usr/local/lib/python3.7/dist-packages (from TensorFlow) (2.0)\n",
            "Requirement already satisfied: wrapt>=1.11.0 in /usr/local/lib/python3.7/dist-packages (from TensorFlow) (1.14.1)\n",
            "Requirement already satisfied: setuptools in /usr/local/lib/python3.7/dist-packages (from TensorFlow) (57.4.0)\n",
            "Requirement already satisfied: gast>=0.2.1 in /usr/local/lib/python3.7/dist-packages (from TensorFlow) (0.5.3)\n",
            "Requirement already satisfied: numpy>=1.20 in /usr/local/lib/python3.7/dist-packages (from TensorFlow) (1.21.6)\n",
            "Requirement already satisfied: six>=1.12.0 in /usr/local/lib/python3.7/dist-packages (from TensorFlow) (1.15.0)\n",
            "Requirement already satisfied: tensorboard<2.9,>=2.8 in /usr/local/lib/python3.7/dist-packages (from TensorFlow) (2.8.0)\n",
            "Requirement already satisfied: absl-py>=0.4.0 in /usr/local/lib/python3.7/dist-packages (from TensorFlow) (1.0.0)\n",
            "Requirement already satisfied: wheel<1.0,>=0.23.0 in /usr/local/lib/python3.7/dist-packages (from astunparse>=1.6.0->TensorFlow) (0.37.1)\n",
            "Requirement already satisfied: cached-property in /usr/local/lib/python3.7/dist-packages (from h5py>=2.9.0->TensorFlow) (1.5.2)\n",
            "Requirement already satisfied: tensorboard-plugin-wit>=1.6.0 in /usr/local/lib/python3.7/dist-packages (from tensorboard<2.9,>=2.8->TensorFlow) (1.8.1)\n",
            "Requirement already satisfied: google-auth<3,>=1.6.3 in /usr/local/lib/python3.7/dist-packages (from tensorboard<2.9,>=2.8->TensorFlow) (1.35.0)\n",
            "Requirement already satisfied: werkzeug>=0.11.15 in /usr/local/lib/python3.7/dist-packages (from tensorboard<2.9,>=2.8->TensorFlow) (1.0.1)\n",
            "Requirement already satisfied: google-auth-oauthlib<0.5,>=0.4.1 in /usr/local/lib/python3.7/dist-packages (from tensorboard<2.9,>=2.8->TensorFlow) (0.4.6)\n",
            "Requirement already satisfied: requests<3,>=2.21.0 in /usr/local/lib/python3.7/dist-packages (from tensorboard<2.9,>=2.8->TensorFlow) (2.23.0)\n",
            "Requirement already satisfied: markdown>=2.6.8 in /usr/local/lib/python3.7/dist-packages (from tensorboard<2.9,>=2.8->TensorFlow) (3.3.7)\n",
            "Requirement already satisfied: tensorboard-data-server<0.7.0,>=0.6.0 in /usr/local/lib/python3.7/dist-packages (from tensorboard<2.9,>=2.8->TensorFlow) (0.6.1)\n",
            "Requirement already satisfied: pyasn1-modules>=0.2.1 in /usr/local/lib/python3.7/dist-packages (from google-auth<3,>=1.6.3->tensorboard<2.9,>=2.8->TensorFlow) (0.2.8)\n",
            "Requirement already satisfied: cachetools<5.0,>=2.0.0 in /usr/local/lib/python3.7/dist-packages (from google-auth<3,>=1.6.3->tensorboard<2.9,>=2.8->TensorFlow) (4.2.4)\n",
            "Requirement already satisfied: rsa<5,>=3.1.4 in /usr/local/lib/python3.7/dist-packages (from google-auth<3,>=1.6.3->tensorboard<2.9,>=2.8->TensorFlow) (4.8)\n",
            "Requirement already satisfied: requests-oauthlib>=0.7.0 in /usr/local/lib/python3.7/dist-packages (from google-auth-oauthlib<0.5,>=0.4.1->tensorboard<2.9,>=2.8->TensorFlow) (1.3.1)\n",
            "Requirement already satisfied: importlib-metadata>=4.4 in /usr/local/lib/python3.7/dist-packages (from markdown>=2.6.8->tensorboard<2.9,>=2.8->TensorFlow) (4.11.3)\n",
            "Requirement already satisfied: zipp>=0.5 in /usr/local/lib/python3.7/dist-packages (from importlib-metadata>=4.4->markdown>=2.6.8->tensorboard<2.9,>=2.8->TensorFlow) (3.8.0)\n",
            "Requirement already satisfied: pyasn1<0.5.0,>=0.4.6 in /usr/local/lib/python3.7/dist-packages (from pyasn1-modules>=0.2.1->google-auth<3,>=1.6.3->tensorboard<2.9,>=2.8->TensorFlow) (0.4.8)\n",
            "Requirement already satisfied: idna<3,>=2.5 in /usr/local/lib/python3.7/dist-packages (from requests<3,>=2.21.0->tensorboard<2.9,>=2.8->TensorFlow) (2.10)\n",
            "Requirement already satisfied: chardet<4,>=3.0.2 in /usr/local/lib/python3.7/dist-packages (from requests<3,>=2.21.0->tensorboard<2.9,>=2.8->TensorFlow) (3.0.4)\n",
            "Requirement already satisfied: urllib3!=1.25.0,!=1.25.1,<1.26,>=1.21.1 in /usr/local/lib/python3.7/dist-packages (from requests<3,>=2.21.0->tensorboard<2.9,>=2.8->TensorFlow) (1.24.3)\n",
            "Requirement already satisfied: certifi>=2017.4.17 in /usr/local/lib/python3.7/dist-packages (from requests<3,>=2.21.0->tensorboard<2.9,>=2.8->TensorFlow) (2022.5.18.1)\n",
            "Requirement already satisfied: oauthlib>=3.0.0 in /usr/local/lib/python3.7/dist-packages (from requests-oauthlib>=0.7.0->google-auth-oauthlib<0.5,>=0.4.1->tensorboard<2.9,>=2.8->TensorFlow) (3.2.0)\n",
            "Installing collected packages: tf-estimator-nightly\n",
            "Successfully installed tf-estimator-nightly-2.8.0.dev2021122109\n",
            "Looking in indexes: https://pypi.org/simple, https://us-python.pkg.dev/colab-wheels/public/simple/\n",
            "Requirement already satisfied: Keras in /usr/local/lib/python3.7/dist-packages (2.8.0)\n",
            "Looking in indexes: https://pypi.org/simple, https://us-python.pkg.dev/colab-wheels/public/simple/\n",
            "Requirement already satisfied: pillow in /usr/local/lib/python3.7/dist-packages (7.1.2)\n",
            "Looking in indexes: https://pypi.org/simple, https://us-python.pkg.dev/colab-wheels/public/simple/\n",
            "Requirement already satisfied: NumPy in /usr/local/lib/python3.7/dist-packages (1.21.6)\n",
            "Looking in indexes: https://pypi.org/simple, https://us-python.pkg.dev/colab-wheels/public/simple/\n",
            "Requirement already satisfied: tqdm in /usr/local/lib/python3.7/dist-packages (4.64.0)\n",
            "Looking in indexes: https://pypi.org/simple, https://us-python.pkg.dev/colab-wheels/public/simple/\n",
            "Collecting jupyterlab\n",
            "  Downloading jupyterlab-3.4.2-py3-none-any.whl (8.8 MB)\n",
            "\u001b[K     |████████████████████████████████| 8.8 MB 28.7 MB/s \n",
            "\u001b[?25hCollecting jupyter-server~=1.16\n",
            "  Downloading jupyter_server-1.17.0-py3-none-any.whl (342 kB)\n",
            "\u001b[K     |████████████████████████████████| 342 kB 64.6 MB/s \n",
            "\u001b[?25hCollecting nbclassic~=0.2\n",
            "  Downloading nbclassic-0.3.7-py3-none-any.whl (13 kB)\n",
            "Requirement already satisfied: jinja2>=2.1 in /usr/local/lib/python3.7/dist-packages (from jupyterlab) (2.11.3)\n",
            "Requirement already satisfied: ipython in /usr/local/lib/python3.7/dist-packages (from jupyterlab) (5.5.0)\n",
            "Requirement already satisfied: jupyter-core in /usr/local/lib/python3.7/dist-packages (from jupyterlab) (4.10.0)\n",
            "Collecting jupyterlab-server~=2.10\n",
            "  Downloading jupyterlab_server-2.14.0-py3-none-any.whl (54 kB)\n",
            "\u001b[K     |████████████████████████████████| 54 kB 3.4 MB/s \n",
            "\u001b[?25hRequirement already satisfied: packaging in /usr/local/lib/python3.7/dist-packages (from jupyterlab) (21.3)\n",
            "Collecting tornado>=6.1.0\n",
            "  Downloading tornado-6.1-cp37-cp37m-manylinux2010_x86_64.whl (428 kB)\n",
            "\u001b[K     |████████████████████████████████| 428 kB 58.6 MB/s \n",
            "\u001b[?25hRequirement already satisfied: MarkupSafe>=0.23 in /usr/local/lib/python3.7/dist-packages (from jinja2>=2.1->jupyterlab) (2.0.1)\n",
            "Collecting nbconvert>=6.4.4\n",
            "  Downloading nbconvert-6.5.0-py3-none-any.whl (561 kB)\n",
            "\u001b[K     |████████████████████████████████| 561 kB 52.0 MB/s \n",
            "\u001b[?25hRequirement already satisfied: prometheus-client in /usr/local/lib/python3.7/dist-packages (from jupyter-server~=1.16->jupyterlab) (0.14.1)\n",
            "Requirement already satisfied: terminado>=0.8.3 in /usr/local/lib/python3.7/dist-packages (from jupyter-server~=1.16->jupyterlab) (0.13.3)\n",
            "Requirement already satisfied: argon2-cffi in /usr/local/lib/python3.7/dist-packages (from jupyter-server~=1.16->jupyterlab) (21.3.0)\n",
            "Requirement already satisfied: pyzmq>=17 in /usr/local/lib/python3.7/dist-packages (from jupyter-server~=1.16->jupyterlab) (23.0.0)\n",
            "Requirement already satisfied: traitlets>=5.1 in /usr/local/lib/python3.7/dist-packages (from jupyter-server~=1.16->jupyterlab) (5.1.1)\n",
            "Collecting anyio<4,>=3.1.0\n",
            "  Downloading anyio-3.6.1-py3-none-any.whl (80 kB)\n",
            "\u001b[K     |████████████████████████████████| 80 kB 10.2 MB/s \n",
            "\u001b[?25hCollecting websocket-client\n",
            "  Downloading websocket_client-1.3.2-py3-none-any.whl (54 kB)\n",
            "\u001b[K     |████████████████████████████████| 54 kB 3.4 MB/s \n",
            "\u001b[?25hRequirement already satisfied: nbformat>=5.2.0 in /usr/local/lib/python3.7/dist-packages (from jupyter-server~=1.16->jupyterlab) (5.4.0)\n",
            "Requirement already satisfied: Send2Trash in /usr/local/lib/python3.7/dist-packages (from jupyter-server~=1.16->jupyterlab) (1.8.0)\n",
            "Collecting jupyter-client>=6.1.12\n",
            "  Downloading jupyter_client-7.3.1-py3-none-any.whl (130 kB)\n",
            "\u001b[K     |████████████████████████████████| 130 kB 61.6 MB/s \n",
            "\u001b[?25hCollecting sniffio>=1.1\n",
            "  Downloading sniffio-1.2.0-py3-none-any.whl (10 kB)\n",
            "Requirement already satisfied: idna>=2.8 in /usr/local/lib/python3.7/dist-packages (from anyio<4,>=3.1.0->jupyter-server~=1.16->jupyterlab) (2.10)\n",
            "Requirement already satisfied: typing-extensions in /usr/local/lib/python3.7/dist-packages (from anyio<4,>=3.1.0->jupyter-server~=1.16->jupyterlab) (4.2.0)\n",
            "Requirement already satisfied: python-dateutil>=2.8.2 in /usr/local/lib/python3.7/dist-packages (from jupyter-client>=6.1.12->jupyter-server~=1.16->jupyterlab) (2.8.2)\n",
            "Requirement already satisfied: nest-asyncio>=1.5.4 in /usr/local/lib/python3.7/dist-packages (from jupyter-client>=6.1.12->jupyter-server~=1.16->jupyterlab) (1.5.5)\n",
            "Requirement already satisfied: entrypoints in /usr/local/lib/python3.7/dist-packages (from jupyter-client>=6.1.12->jupyter-server~=1.16->jupyterlab) (0.4)\n",
            "Collecting json5\n",
            "  Downloading json5-0.9.8.tar.gz (22 kB)\n",
            "Collecting jinja2>=2.1\n",
            "  Downloading Jinja2-3.1.2-py3-none-any.whl (133 kB)\n",
            "\u001b[K     |████████████████████████████████| 133 kB 54.9 MB/s \n",
            "\u001b[?25hRequirement already satisfied: babel in /usr/local/lib/python3.7/dist-packages (from jupyterlab-server~=2.10->jupyterlab) (2.10.1)\n",
            "Requirement already satisfied: jsonschema>=3.0.1 in /usr/local/lib/python3.7/dist-packages (from jupyterlab-server~=2.10->jupyterlab) (4.3.3)\n",
            "Requirement already satisfied: requests in /usr/local/lib/python3.7/dist-packages (from jupyterlab-server~=2.10->jupyterlab) (2.23.0)\n",
            "Requirement already satisfied: importlib-metadata>=3.6 in /usr/local/lib/python3.7/dist-packages (from jupyterlab-server~=2.10->jupyterlab) (4.11.3)\n",
            "Requirement already satisfied: zipp>=0.5 in /usr/local/lib/python3.7/dist-packages (from importlib-metadata>=3.6->jupyterlab-server~=2.10->jupyterlab) (3.8.0)\n",
            "Requirement already satisfied: importlib-resources>=1.4.0 in /usr/local/lib/python3.7/dist-packages (from jsonschema>=3.0.1->jupyterlab-server~=2.10->jupyterlab) (5.7.1)\n",
            "Requirement already satisfied: attrs>=17.4.0 in /usr/local/lib/python3.7/dist-packages (from jsonschema>=3.0.1->jupyterlab-server~=2.10->jupyterlab) (21.4.0)\n",
            "Requirement already satisfied: pyrsistent!=0.17.0,!=0.17.1,!=0.17.2,>=0.14.0 in /usr/local/lib/python3.7/dist-packages (from jsonschema>=3.0.1->jupyterlab-server~=2.10->jupyterlab) (0.18.1)\n",
            "Collecting notebook-shim>=0.1.0\n",
            "  Downloading notebook_shim-0.1.0-py3-none-any.whl (13 kB)\n",
            "Requirement already satisfied: notebook<7 in /usr/local/lib/python3.7/dist-packages (from nbclassic~=0.2->jupyterlab) (5.3.1)\n",
            "Requirement already satisfied: defusedxml in /usr/local/lib/python3.7/dist-packages (from nbconvert>=6.4.4->jupyter-server~=1.16->jupyterlab) (0.7.1)\n",
            "Requirement already satisfied: mistune<2,>=0.8.1 in /usr/local/lib/python3.7/dist-packages (from nbconvert>=6.4.4->jupyter-server~=1.16->jupyterlab) (0.8.4)\n",
            "Requirement already satisfied: jupyterlab-pygments in /usr/local/lib/python3.7/dist-packages (from nbconvert>=6.4.4->jupyter-server~=1.16->jupyterlab) (0.2.2)\n",
            "Requirement already satisfied: beautifulsoup4 in /usr/local/lib/python3.7/dist-packages (from nbconvert>=6.4.4->jupyter-server~=1.16->jupyterlab) (4.6.3)\n",
            "Requirement already satisfied: pygments>=2.4.1 in /usr/local/lib/python3.7/dist-packages (from nbconvert>=6.4.4->jupyter-server~=1.16->jupyterlab) (2.6.1)\n",
            "Requirement already satisfied: tinycss2 in /usr/local/lib/python3.7/dist-packages (from nbconvert>=6.4.4->jupyter-server~=1.16->jupyterlab) (1.1.1)\n",
            "Requirement already satisfied: bleach in /usr/local/lib/python3.7/dist-packages (from nbconvert>=6.4.4->jupyter-server~=1.16->jupyterlab) (5.0.0)\n",
            "Requirement already satisfied: nbclient>=0.5.0 in /usr/local/lib/python3.7/dist-packages (from nbconvert>=6.4.4->jupyter-server~=1.16->jupyterlab) (0.6.3)\n",
            "Requirement already satisfied: pandocfilters>=1.4.1 in /usr/local/lib/python3.7/dist-packages (from nbconvert>=6.4.4->jupyter-server~=1.16->jupyterlab) (1.5.0)\n",
            "Requirement already satisfied: fastjsonschema in /usr/local/lib/python3.7/dist-packages (from nbformat>=5.2.0->jupyter-server~=1.16->jupyterlab) (2.15.3)\n",
            "Requirement already satisfied: ipykernel in /usr/local/lib/python3.7/dist-packages (from notebook<7->nbclassic~=0.2->jupyterlab) (4.10.1)\n",
            "Requirement already satisfied: ipython-genutils in /usr/local/lib/python3.7/dist-packages (from notebook<7->nbclassic~=0.2->jupyterlab) (0.2.0)\n",
            "Requirement already satisfied: six>=1.5 in /usr/local/lib/python3.7/dist-packages (from python-dateutil>=2.8.2->jupyter-client>=6.1.12->jupyter-server~=1.16->jupyterlab) (1.15.0)\n",
            "Requirement already satisfied: ptyprocess in /usr/local/lib/python3.7/dist-packages (from terminado>=0.8.3->jupyter-server~=1.16->jupyterlab) (0.7.0)\n",
            "Requirement already satisfied: argon2-cffi-bindings in /usr/local/lib/python3.7/dist-packages (from argon2-cffi->jupyter-server~=1.16->jupyterlab) (21.2.0)\n",
            "Requirement already satisfied: cffi>=1.0.1 in /usr/local/lib/python3.7/dist-packages (from argon2-cffi-bindings->argon2-cffi->jupyter-server~=1.16->jupyterlab) (1.15.0)\n",
            "Requirement already satisfied: pycparser in /usr/local/lib/python3.7/dist-packages (from cffi>=1.0.1->argon2-cffi-bindings->argon2-cffi->jupyter-server~=1.16->jupyterlab) (2.21)\n",
            "Requirement already satisfied: pytz>=2015.7 in /usr/local/lib/python3.7/dist-packages (from babel->jupyterlab-server~=2.10->jupyterlab) (2022.1)\n",
            "Requirement already satisfied: webencodings in /usr/local/lib/python3.7/dist-packages (from bleach->nbconvert>=6.4.4->jupyter-server~=1.16->jupyterlab) (0.5.1)\n",
            "Requirement already satisfied: decorator in /usr/local/lib/python3.7/dist-packages (from ipython->jupyterlab) (4.4.2)\n",
            "Requirement already satisfied: pickleshare in /usr/local/lib/python3.7/dist-packages (from ipython->jupyterlab) (0.7.5)\n",
            "Requirement already satisfied: simplegeneric>0.8 in /usr/local/lib/python3.7/dist-packages (from ipython->jupyterlab) (0.8.1)\n",
            "Requirement already satisfied: prompt-toolkit<2.0.0,>=1.0.4 in /usr/local/lib/python3.7/dist-packages (from ipython->jupyterlab) (1.0.18)\n",
            "Requirement already satisfied: pexpect in /usr/local/lib/python3.7/dist-packages (from ipython->jupyterlab) (4.8.0)\n",
            "Requirement already satisfied: setuptools>=18.5 in /usr/local/lib/python3.7/dist-packages (from ipython->jupyterlab) (57.4.0)\n",
            "Requirement already satisfied: wcwidth in /usr/local/lib/python3.7/dist-packages (from prompt-toolkit<2.0.0,>=1.0.4->ipython->jupyterlab) (0.2.5)\n",
            "Requirement already satisfied: pyparsing!=3.0.5,>=2.0.2 in /usr/local/lib/python3.7/dist-packages (from packaging->jupyterlab) (3.0.9)\n",
            "Requirement already satisfied: urllib3!=1.25.0,!=1.25.1,<1.26,>=1.21.1 in /usr/local/lib/python3.7/dist-packages (from requests->jupyterlab-server~=2.10->jupyterlab) (1.24.3)\n",
            "Requirement already satisfied: chardet<4,>=3.0.2 in /usr/local/lib/python3.7/dist-packages (from requests->jupyterlab-server~=2.10->jupyterlab) (3.0.4)\n",
            "Requirement already satisfied: certifi>=2017.4.17 in /usr/local/lib/python3.7/dist-packages (from requests->jupyterlab-server~=2.10->jupyterlab) (2022.5.18.1)\n",
            "Building wheels for collected packages: json5\n",
            "  Building wheel for json5 (setup.py) ... \u001b[?25l\u001b[?25hdone\n",
            "  Created wheel for json5: filename=json5-0.9.8-py2.py3-none-any.whl size=18604 sha256=cde4b746b8f9ad50d2c0a8968b9977dfda1c8a9df6dc51150ac049ed52ce1f68\n",
            "  Stored in directory: /root/.cache/pip/wheels/ac/9b/de/6e4fd8f159d3dfa42c42ceddf2184fda29ea7fb1e8f5f8371c\n",
            "Successfully built json5\n",
            "Installing collected packages: tornado, jupyter-client, sniffio, jinja2, websocket-client, nbconvert, anyio, jupyter-server, notebook-shim, json5, nbclassic, jupyterlab-server, jupyterlab\n",
            "  Attempting uninstall: tornado\n",
            "    Found existing installation: tornado 5.1.1\n",
            "    Uninstalling tornado-5.1.1:\n",
            "      Successfully uninstalled tornado-5.1.1\n",
            "  Attempting uninstall: jupyter-client\n",
            "    Found existing installation: jupyter-client 5.3.5\n",
            "    Uninstalling jupyter-client-5.3.5:\n",
            "      Successfully uninstalled jupyter-client-5.3.5\n",
            "  Attempting uninstall: jinja2\n",
            "    Found existing installation: Jinja2 2.11.3\n",
            "    Uninstalling Jinja2-2.11.3:\n",
            "      Successfully uninstalled Jinja2-2.11.3\n",
            "  Attempting uninstall: nbconvert\n",
            "    Found existing installation: nbconvert 5.6.1\n",
            "    Uninstalling nbconvert-5.6.1:\n",
            "      Successfully uninstalled nbconvert-5.6.1\n",
            "\u001b[31mERROR: pip's dependency resolver does not currently take into account all the packages that are installed. This behaviour is the source of the following dependency conflicts.\n",
            "google-colab 1.0.0 requires tornado~=5.1.0; python_version >= \"3.0\", but you have tornado 6.1 which is incompatible.\n",
            "flask 1.1.4 requires Jinja2<3.0,>=2.10.1, but you have jinja2 3.1.2 which is incompatible.\n",
            "datascience 0.10.6 requires folium==0.2.1, but you have folium 0.8.3 which is incompatible.\u001b[0m\n",
            "Successfully installed anyio-3.6.1 jinja2-3.1.2 json5-0.9.8 jupyter-client-7.3.1 jupyter-server-1.17.0 jupyterlab-3.4.2 jupyterlab-server-2.14.0 nbclassic-0.3.7 nbconvert-6.5.0 notebook-shim-0.1.0 sniffio-1.2.0 tornado-6.1 websocket-client-1.3.2\n"
          ]
        },
        {
          "output_type": "display_data",
          "data": {
            "application/vnd.colab-display-data+json": {
              "pip_warning": {
                "packages": [
                  "jupyter_client",
                  "tornado"
                ]
              }
            }
          },
          "metadata": {}
        }
      ],
      "source": [
        "!pip install TensorFlow\n",
        "!pip install Keras\n",
        "!pip install pillow\n",
        "!pip install NumPy\n",
        "!pip install tqdm\n",
        "!pip install jupyterlab"
      ]
    },
    {
      "cell_type": "code",
      "source": [
        "import numpy as np\n",
        "from PIL import Image\n",
        "import os\n",
        "import string\n",
        "from pickle import dump, load\n",
        "from keras.applications.xception import Xception, preprocess_input\n",
        "from keras.preprocessing.image import load_img, img_to_array\n",
        "from keras.preprocessing.text import Tokenizer \n",
        "from keras.preprocessing.sequence import pad_sequences\n",
        "from tensorflow.keras.utils import to_categorical\n",
        "from keras.layers.merge import add\n",
        "from keras.models import Model, load_model\n",
        "from keras.layers import Input, Dense, LSTM, Embedding, Dropout\n",
        "from tqdm import tqdm_notebook as tqdm\n",
        "tqdm().pandas()"
      ],
      "metadata": {
        "id": "Igce7EA4rwqd",
        "colab": {
          "base_uri": "https://localhost:8080/",
          "height": 102,
          "referenced_widgets": [
            "95081083383e4c93a00d823e7cc97d21",
            "148d8c6bed234550873676e6efc49731",
            "5f73d404f54649a5a0e90a4aa847066d",
            "2dec5ac58894400889434e83af2b022f",
            "8b7c325c7e3a43c1923fb2352b79d62a",
            "20ce723c6e6d4aaaac67e2b08109b933",
            "8bbb7f66940242a3ab968e96bfcb002d",
            "51054284d2a842d3bea83e4de9ecde42",
            "03d21835f0cb41eaa013f8733ec5a82a",
            "8fe7b07cb6d84352b9a39f5a23aa7007",
            "f8d116f881a24c42b1d9240513ee393d"
          ]
        },
        "outputId": "eb914f7b-299c-4b62-edd3-15cd32f86229"
      },
      "execution_count": 1,
      "outputs": [
        {
          "output_type": "stream",
          "name": "stderr",
          "text": [
            "/usr/local/lib/python3.7/dist-packages/ipykernel_launcher.py:15: TqdmDeprecationWarning: This function will be removed in tqdm==5.0.0\n",
            "Please use `tqdm.notebook.tqdm` instead of `tqdm.tqdm_notebook`\n",
            "  from ipykernel import kernelapp as app\n"
          ]
        },
        {
          "output_type": "display_data",
          "data": {
            "text/plain": [
              "0it [00:00, ?it/s]"
            ],
            "application/vnd.jupyter.widget-view+json": {
              "version_major": 2,
              "version_minor": 0,
              "model_id": "95081083383e4c93a00d823e7cc97d21"
            }
          },
          "metadata": {}
        }
      ]
    },
    {
      "cell_type": "code",
      "source": [
        "from google.colab import drive\n",
        "\n",
        "drive.mount('/content/drive', force_remount=True)\n",
        "\n",
        "FOLDERNAME = ' 230_Project'\n",
        "\n",
        "assert FOLDERNAME is not None, \"[!] Enter the foldername.\"\n",
        "\n",
        "%cd drive/My\\ Drive\n",
        "%cd $FOLDERNAME"
      ],
      "metadata": {
        "id": "ZtglSsITG_0f",
        "colab": {
          "base_uri": "https://localhost:8080/"
        },
        "outputId": "bfd8c2b3-ba40-453b-f4d3-9564b373d6a3"
      },
      "execution_count": 2,
      "outputs": [
        {
          "output_type": "stream",
          "name": "stdout",
          "text": [
            "Mounted at /content/drive\n",
            "/content/drive/My Drive\n",
            "/content/drive/My Drive/230_Project\n"
          ]
        }
      ]
    },
    {
      "cell_type": "code",
      "source": [
        "gpu_info = !nvidia-smi\n",
        "gpu_info = '\\n'.join(gpu_info)\n",
        "if gpu_info.find('failed') >= 0:\n",
        "  print('Not connected to a GPU')\n",
        "else:\n",
        "  print(gpu_info)"
      ],
      "metadata": {
        "colab": {
          "base_uri": "https://localhost:8080/"
        },
        "id": "S0y8xhxUky93",
        "outputId": "6c3397e3-e265-4d77-c831-35915a624d3a"
      },
      "execution_count": null,
      "outputs": [
        {
          "output_type": "stream",
          "name": "stdout",
          "text": [
            "Tue May 31 10:05:02 2022       \n",
            "+-----------------------------------------------------------------------------+\n",
            "| NVIDIA-SMI 460.32.03    Driver Version: 460.32.03    CUDA Version: 11.2     |\n",
            "|-------------------------------+----------------------+----------------------+\n",
            "| GPU  Name        Persistence-M| Bus-Id        Disp.A | Volatile Uncorr. ECC |\n",
            "| Fan  Temp  Perf  Pwr:Usage/Cap|         Memory-Usage | GPU-Util  Compute M. |\n",
            "|                               |                      |               MIG M. |\n",
            "|===============================+======================+======================|\n",
            "|   0  Tesla P100-PCIE...  Off  | 00000000:00:04.0 Off |                    0 |\n",
            "| N/A   36C    P0    25W / 250W |      0MiB / 16280MiB |      0%      Default |\n",
            "|                               |                      |                  N/A |\n",
            "+-------------------------------+----------------------+----------------------+\n",
            "                                                                               \n",
            "+-----------------------------------------------------------------------------+\n",
            "| Processes:                                                                  |\n",
            "|  GPU   GI   CI        PID   Type   Process name                  GPU Memory |\n",
            "|        ID   ID                                                   Usage      |\n",
            "|=============================================================================|\n",
            "|  No running processes found                                                 |\n",
            "+-----------------------------------------------------------------------------+\n"
          ]
        }
      ]
    },
    {
      "cell_type": "code",
      "source": [
        "# Load the document file into memory\n",
        "def load_fp(filename):\n",
        "  # Open file to read\n",
        "  file = open(filename, 'r')\n",
        "  text = file.read()\n",
        "  file.close()\n",
        "  return text"
      ],
      "metadata": {
        "id": "Z8ccB0yGr2Sn"
      },
      "execution_count": 3,
      "outputs": []
    },
    {
      "cell_type": "code",
      "source": [
        "#Data cleaning function will convert all upper case alphabets to lowercase, removing punctuations and words containing numbers\n",
        "def txt_clean(captions):\n",
        "   table = str.maketrans('','', string.punctuation)\n",
        "   for img, caps in captions.items():\n",
        "     for i, img_caption in enumerate(caps):\n",
        "       img_caption.replace(\"-\",\" \")\n",
        "       descp = img_caption.split()\n",
        "       #uppercase to lowercase\n",
        "       descp = [wrd.lower() for wrd in descp]\n",
        "       #remove punctuation from each token\n",
        "       descp = [wrd.translate(table) for wrd in descp]\n",
        "       #remove hanging 's and a\n",
        "       descp = [wrd for wrd in descp if (len(wrd) > 1)]\n",
        "       #remove words containing numbers with them\n",
        "       descp = [wrd for wrd in descp if (wrd.isalpha())]\n",
        "       #converting back to string\n",
        "       img_caption = ' '.join(descp)\n",
        "       captions[img][i] = img_caption\n",
        "     return captions\n",
        "\n",
        "\n",
        "def txt_vocab(descriptions):\n",
        "  # To build vocab of all unique words\n",
        "   vocab = set()\n",
        "   for key in descriptions.keys():\n",
        "       [vocab.update(d.split()) for d in descriptions[key]]\n",
        "   return vocab\n",
        "\n",
        "\n",
        "#To save all descriptions in one file\n",
        "def save_descriptions(descriptions, filename):\n",
        "   lines = list()\n",
        "   for key, desc_list in descriptions.items():\n",
        "     for desc in desc_list:\n",
        "           lines.append(key + '\\@' + desc )\n",
        "   data = \"\\&\".join(lines)\n",
        "   file = open(filename,\"w\")\n",
        "   file.write(data)\n",
        "   file.close()"
      ],
      "metadata": {
        "id": "78dtIpJdBGXB"
      },
      "execution_count": 4,
      "outputs": []
    },
    {
      "cell_type": "code",
      "source": [
        "import pandas as pd\n",
        "import numpy as np\n",
        "import os\n",
        "import ast\n",
        "import cv2\n",
        "from collections import defaultdict\n",
        "\n",
        "\n",
        "def getCaptions():\n",
        "    # df = pd.read_csv(\"drive/MyDrive/junior year/Copy of artemis_dataset_release_v0.csv\")\n",
        "    df = pd.read_csv(\"./artemis_dataset_release_v0.csv\")\n",
        "    captions = defaultdict(list)\n",
        "    for index, row in df.iterrows():\n",
        "        if len(captions[row[1]]) < 5:\n",
        "            caption = row[3]\n",
        "            # getting first sentence of every annotation\n",
        "            ind = caption.find('.')\n",
        "            captions[row[1]].append(caption[:ind])\n",
        "    print(\"Done adding to dict!\")\n",
        "    return captions"
      ],
      "metadata": {
        "id": "sRzZcdEODasx"
      },
      "execution_count": 10,
      "outputs": []
    },
    {
      "cell_type": "code",
      "source": [
        "# change to our dataset paths\n",
        "dataset_text = \"./captions.txt\"\n",
        "dataset_images = \"./images\""
      ],
      "metadata": {
        "id": "s54mLdgYVWWW"
      },
      "execution_count": 6,
      "outputs": []
    },
    {
      "cell_type": "code",
      "source": [
        "#to prepare our text data\n",
        "#map captions into descriptions dictionary \n",
        "descriptions = getCaptions()\n",
        "print(\"Length of descriptions =\", len(descriptions))\n",
        "#cleaning the descriptions\n",
        "clean_descriptions = txt_clean(descriptions)\n",
        "for key, value in clean_descriptions.items():\n",
        "  print(key)\n",
        "  print(value)\n",
        "  break\n",
        "#to build vocabulary\n",
        "vocabulary = txt_vocab(clean_descriptions)\n",
        "print(\"Length of vocabulary = \", len(vocabulary))\n",
        "# saving all descriptions in one file\n",
        "save_descriptions(clean_descriptions, \"descriptions.txt\")"
      ],
      "metadata": {
        "id": "qyVg80JQCQmr",
        "colab": {
          "base_uri": "https://localhost:8080/"
        },
        "outputId": "500ec843-0f24-40b9-d62a-d9628c3785ce"
      },
      "execution_count": 11,
      "outputs": [
        {
          "output_type": "stream",
          "name": "stdout",
          "text": [
            "Done adding to dict!\n",
            "Length of descriptions = 80031\n",
            "vincent-van-gogh_portrait-of-madame-ginoux-l-arlesienne-1890\n",
            "['she seems very happy in the picture and you want to know what what is behind the smile', 'this woman has really knotty hands which makes her look like she has arthritis', 'when looking at this woman am filled with curiosity about what she is thinking about with her elbow on the table and very emotionless face', 'woman looking at ease peaceful and satisfied amongst her books makes me feel content', 'she looks like lady from that past that might have been teacher books']\n",
            "Length of vocabulary =  79943\n"
          ]
        }
      ]
    },
    {
      "cell_type": "code",
      "source": [
        "#descriptions['claudio-tozzi_papag-lia']\n",
        "descriptions['constantin-artachino_white-headscarf']"
      ],
      "metadata": {
        "colab": {
          "base_uri": "https://localhost:8080/"
        },
        "id": "dhqZ3n8zK8Oq",
        "outputId": "96bc1bb4-1e45-418b-82d6-7e24d2525b75"
      },
      "execution_count": null,
      "outputs": [
        {
          "output_type": "execute_result",
          "data": {
            "text/plain": [
              "['This image really looks amazing with how realistic it looks with so simple of colors. I love the slight red that is brought about close to the ear since it allows a bit of color among everything else',\n",
              " 'This painting is well done and very natural looking. I am not weirded out by the facial arrangement like so many other painting like it.',\n",
              " 'The look of peace on the face is nice to me',\n",
              " 'The young girl is wearing hijab and looks lost in thought as she reflects on her life',\n",
              " 'This painting makes me feel content, looking at the steady face here.']"
            ]
          },
          "metadata": {},
          "execution_count": 11
        }
      ]
    },
    {
      "cell_type": "code",
      "source": [
        "def extract_features(directory):\n",
        "  model = Xception( include_top=False, pooling='avg', weights='imagenet', input_shape=(128, 128, 3))\n",
        "  features = {}\n",
        "  for img in tqdm(os.listdir(directory)):\n",
        "    filename = directory + \"/\" + img\n",
        "    image = Image.open(filename)\n",
        "    #image = image.resize((224, 224))\n",
        "    image = np.expand_dims(image, axis=0)\n",
        "    #image = preprocess_input(image)\n",
        "    image = image / 127.5\n",
        "    image = image - 1.0\n",
        "\n",
        "    feature = model.predict(image)\n",
        "    features[img] = feature\n",
        "  return features\n",
        "\n",
        "#2048 feature vector\n",
        "features = extract_features(dataset_images)\n",
        "dump(features, open(\"features.p\", \"wb\"))"
      ],
      "metadata": {
        "id": "6KYiQXv0sVml",
        "colab": {
          "base_uri": "https://localhost:8080/",
          "height": 156,
          "referenced_widgets": [
            "8258ec533dcb42a3b050cd752b610510",
            "8678a407afc143819b3060b0e7ef8478",
            "80b99ee77ddf4fe6b3023952f6383b87",
            "6451a735e2f6457798dbf74ecb48f1ce",
            "3d0c21a1a28343a48106840a9f7de579",
            "d8f1a4978511486ebe1beacc24bae17d",
            "0eb343b4b76143b9a67e0915c22cedf5",
            "e1473678346441838eefb0a485dd6337",
            "81da653da6064aae9ca304c4a7016a5c",
            "ba6ac0a4dfa048d2a334946f7cdf8638",
            "00ff912e737543a296ca5c832c146bde"
          ]
        },
        "outputId": "484cec56-f6f2-4e89-fbaa-7c0234b10eae"
      },
      "execution_count": null,
      "outputs": [
        {
          "output_type": "stream",
          "name": "stdout",
          "text": [
            "Downloading data from https://storage.googleapis.com/tensorflow/keras-applications/xception/xception_weights_tf_dim_ordering_tf_kernels_notop.h5\n",
            "83689472/83683744 [==============================] - 0s 0us/step\n",
            "83697664/83683744 [==============================] - 0s 0us/step\n"
          ]
        },
        {
          "output_type": "stream",
          "name": "stderr",
          "text": [
            "/usr/local/lib/python3.7/dist-packages/ipykernel_launcher.py:4: TqdmDeprecationWarning: This function will be removed in tqdm==5.0.0\n",
            "Please use `tqdm.notebook.tqdm` instead of `tqdm.tqdm_notebook`\n",
            "  after removing the cwd from sys.path.\n"
          ]
        },
        {
          "output_type": "display_data",
          "data": {
            "text/plain": [
              "  0%|          | 0/14668 [00:00<?, ?it/s]"
            ],
            "application/vnd.jupyter.widget-view+json": {
              "version_major": 2,
              "version_minor": 0,
              "model_id": "8258ec533dcb42a3b050cd752b610510"
            }
          },
          "metadata": {}
        }
      ]
    },
    {
      "cell_type": "code",
      "source": [
        "#load the data \n",
        "def load_photos(filename):\n",
        "  file = load_fp(filename)\n",
        "  photos = file.split(\"\\n\")[:-1]\n",
        "  return photos\n",
        "\n",
        "def load_clean_descriptions(filename, photos): \n",
        "  #loading clean_descriptions\n",
        "  file = load_fp(filename)\n",
        "  captions = file.split('\\&')\n",
        "  descriptions = defaultdict(list)\n",
        "  for img in photos:\n",
        "    name = img[:-4]\n",
        "    captions = clean_descriptions[name]\n",
        "    for caption in captions:\n",
        "        desc = '<start> ' + caption + ' <end>'\n",
        "        descriptions[name].append(desc)\n",
        "  '''     \n",
        "  for img, captions in clean_descriptions.items():\n",
        "    imgName = img + \".jpg\"\n",
        "    if imgName in photos:\n",
        "      for caption in captions:\n",
        "        desc = '<start> ' + caption + ' <end>'\n",
        "        descriptions[img].append(desc)'''\n",
        "  return descriptions\n",
        "\n",
        "def load_features(photos):\n",
        "  #loading all features\n",
        "  all_features = load(open(\"features.p\",\"rb\"))\n",
        "  #selecting only needed features\n",
        "  features = {k:all_features[k] for k in photos}\n",
        "  return features\n"
      ],
      "metadata": {
        "id": "g4MbGQW62wnk"
      },
      "execution_count": 22,
      "outputs": []
    },
    {
      "cell_type": "code",
      "source": [
        "import random\n",
        "\n",
        "filename = dataset_text\n",
        "all_imgs = list(load(open(\"features.p\",\"rb\")).keys())\n",
        "selection = random.sample(range(0, 14600), 14500)\n",
        "# select test set of 200\n",
        "test_idx = selection[:200]\n",
        "# select random training set of 14300 images \n",
        "train_idx = selection[200:]\n",
        "train_imgs = [all_imgs[i] for i in train_idx]\n",
        "test_imgs = [all_imgs[i] for i in test_idx]\n",
        "train2_idx = selection[:10]\n",
        "train2_imgs = [all_imgs[i] for i in train2_idx]"
      ],
      "metadata": {
        "id": "rEZvJx3c2nCF"
      },
      "execution_count": 41,
      "outputs": []
    },
    {
      "cell_type": "code",
      "source": [
        "train_descriptions = load_clean_descriptions(\"descriptions.txt\", train_imgs)\n",
        "train2_descriptions = load_clean_descriptions(\"descriptions.txt\", train2_imgs)\n",
        "test_descriptions = load_clean_descriptions(\"descriptions.txt\", test_imgs)\n",
        "train_features = load_features(train_imgs)\n",
        "train2_features = load_features(train2_imgs)\n",
        "test_features = load_features(test_imgs)\n",
        "print(len(train_descriptions))\n",
        "print(len(train2_descriptions))\n",
        "print(len(test_descriptions))"
      ],
      "metadata": {
        "colab": {
          "base_uri": "https://localhost:8080/"
        },
        "id": "QD-cVvLyGxqW",
        "outputId": "7bc38b8f-48a9-49e5-c4ea-38b146a56587"
      },
      "execution_count": 42,
      "outputs": [
        {
          "output_type": "stream",
          "name": "stdout",
          "text": [
            "14136\n",
            "10\n",
            "199\n"
          ]
        }
      ]
    },
    {
      "cell_type": "code",
      "source": [
        "#converting dictionary to clean list of descriptions\n",
        "def dict_to_list(descriptions):\n",
        "  all_desc = []\n",
        "  for key in descriptions.keys():\n",
        "    [all_desc.append(d) for d in descriptions[key]]\n",
        "  return all_desc\n",
        "\n",
        "#creating tokenizer class \n",
        "#this will vectorise text corpus\n",
        "#each integer will represent token in dictionary\n",
        "\n",
        "from keras.preprocessing.text import Tokenizer\n",
        "\n",
        "def create_tokenizer(descriptions):\n",
        "  desc_list = dict_to_list(descriptions)\n",
        "  print(len(desc_list))\n",
        "  tokenizer = Tokenizer()\n",
        "  tokenizer.fit_on_texts(desc_list)\n",
        "  return tokenizer\n",
        "\n",
        "# give each word an index, and store that into tokenizer.p pickle file\n",
        "tokenizer = create_tokenizer(train_descriptions)\n",
        "print(len(train_descriptions))\n",
        "dump(tokenizer, open('tokenizer.p', 'wb'))\n",
        "vocab_size = len(tokenizer.word_index) + 1\n",
        "print(vocab_size)"
      ],
      "metadata": {
        "id": "Y-voJo9Z29Lv",
        "colab": {
          "base_uri": "https://localhost:8080/"
        },
        "outputId": "ecd43b63-e26d-4d19-c657-d091605a3333"
      },
      "execution_count": 25,
      "outputs": [
        {
          "output_type": "stream",
          "name": "stdout",
          "text": [
            "70705\n",
            "14141\n",
            "21457\n"
          ]
        }
      ]
    },
    {
      "cell_type": "code",
      "source": [
        "#calculate maximum length of descriptions\n",
        "def max_length(descriptions):\n",
        "  desc_list = dict_to_list(descriptions)\n",
        "  return max(len(d.split()) for d in desc_list)"
      ],
      "metadata": {
        "id": "vwv-FWNq3B1G"
      },
      "execution_count": 56,
      "outputs": []
    },
    {
      "cell_type": "code",
      "source": [
        "max_length = max_length(clean_descriptions)\n",
        "max_length"
      ],
      "metadata": {
        "colab": {
          "base_uri": "https://localhost:8080/"
        },
        "id": "4gRf7XVR1elI",
        "outputId": "22105a88-9f20-4543-8584-8f0bc9501199"
      },
      "execution_count": 57,
      "outputs": [
        {
          "output_type": "execute_result",
          "data": {
            "text/plain": [
              "94"
            ]
          },
          "metadata": {},
          "execution_count": 57
        }
      ]
    },
    {
      "cell_type": "code",
      "source": [
        "#create input-output sequence pairs from the image description.\n",
        "\n",
        "#data generator, used by model.fit_generator()\n",
        "def data_generator(descriptions, features, tokenizer, max_length):\n",
        "  while 1:\n",
        "    for key, description_list in descriptions.items():\n",
        "      #retrieve photo features\n",
        "      key = key + \".jpg\"\n",
        "      feature = features[key][0]\n",
        "      input_image, input_sequence, output_word = create_sequences(tokenizer, max_length, description_list, feature)\n",
        "      yield [[input_image, input_sequence], output_word]\n",
        "\n",
        "def create_sequences(tokenizer, max_length, desc_list, feature):\n",
        "  X1, X2, y = list(), list(), list()\n",
        "  # walk through each description for the image\n",
        "  for desc in desc_list:\n",
        "  # encode the sequence\n",
        "    seq = tokenizer.texts_to_sequences([desc])[0]\n",
        "    # split one sequence into multiple x, y pairs\n",
        "    for i in range(1, len(seq)):\n",
        "      # split into input and output pair\n",
        "      in_seq, out_seq = seq[:i], seq[i]\n",
        "      # pad input sequence\n",
        "      in_seq = pad_sequences([in_seq], maxlen=max_length)[0]\n",
        "      # encode output sequence\n",
        "      out_seq = to_categorical([out_seq], num_classes=vocab_size)[0]\n",
        "      # store\n",
        "      X1.append(feature)\n",
        "      X2.append(in_seq)\n",
        "      y.append(out_seq)\n",
        "  return np.array(X1), np.array(X2), np.array(y)"
      ],
      "metadata": {
        "id": "Wiu-CNvF3FpB"
      },
      "execution_count": 28,
      "outputs": []
    },
    {
      "cell_type": "code",
      "source": [
        "#You can check the shape of the input and output for your model\n",
        "all_features = load(open(\"features.p\",\"rb\"))\n",
        "[a, b], c = next(data_generator(train_descriptions, all_features, tokenizer, max_length))\n",
        "a.shape, b.shape, c.shape"
      ],
      "metadata": {
        "colab": {
          "base_uri": "https://localhost:8080/"
        },
        "id": "X5c2B39yx6zj",
        "outputId": "2feafacb-58fe-42da-b2a3-abd6b3afa595"
      },
      "execution_count": 29,
      "outputs": [
        {
          "output_type": "execute_result",
          "data": {
            "text/plain": [
              "((85, 2048), (85, 94), (85, 21457))"
            ]
          },
          "metadata": {},
          "execution_count": 29
        }
      ]
    },
    {
      "cell_type": "code",
      "source": [
        "from tensorflow.keras.utils import plot_model\n",
        "\n",
        "# define the captioning model\n",
        "def define_model(vocab_size, max_length):\n",
        "  # features from the CNN model squeezed from 2048 to 256 nodes\n",
        "  inputs1 = Input(shape=(2048,))\n",
        "  fe1 = Dropout(0.5)(inputs1)\n",
        "  fe2 = Dense(256, activation='relu')(fe1)\n",
        "\n",
        "  # LSTM sequence model\n",
        "  inputs2 = Input(shape=(max_length,))\n",
        "  se1 = Embedding(vocab_size, 256, mask_zero=True)(inputs2)\n",
        "  se2 = Dropout(0.5)(se1)\n",
        "  se3 = LSTM(256)(se2)\n",
        "\n",
        "  # Merging both models\n",
        "  decoder1 = add([fe2, se3])\n",
        "  decoder2 = Dense(256, activation='relu')(decoder1)\n",
        "  outputs = Dense(vocab_size, activation='softmax')(decoder2)\n",
        "\n",
        "  # tie it together [image, seq] [word]\n",
        "  model = Model(inputs=[inputs1, inputs2], outputs=outputs)\n",
        "  model.compile(loss='categorical_crossentropy', optimizer='adam')\n",
        "\n",
        "  # summarize model\n",
        "  print(model.summary())\n",
        "  plot_model(model, to_file='model.png', show_shapes=True)\n",
        "\n",
        "  return model"
      ],
      "metadata": {
        "id": "IsaOTRMG3LnK"
      },
      "execution_count": 30,
      "outputs": []
    },
    {
      "cell_type": "code",
      "source": [
        "import matplotlib.pyplot as plt\n",
        "\n",
        "print('Dataset: ', len(train_imgs))\n",
        "print('Descriptions: train=', len(train_descriptions))\n",
        "print('Photos: train=', len(train_features))\n",
        "print('Vocabulary Size:', vocab_size)\n",
        "print('Description Length: ', max_length)\n",
        "\n",
        "model = define_model(vocab_size, max_length)\n",
        "steps = 10000\n",
        "\n",
        "# 6 epochs is best - lowest loss\n",
        "\n",
        "generator = data_generator(train_descriptions, train_features, tokenizer, max_length)\n",
        "training = model.fit(generator, epochs=10, steps_per_epoch=steps, verbose=1)\n",
        "plt.plot(training.history[\"loss\"], label=\"Training Loss\")\n",
        "plt.legend()\n",
        "plt.xlabel(\"epochs\")\n",
        "plt.ylabel(\"loss\")\n",
        "plt.show()\n",
        "model.save(\"models/model_4\" + \".h5\")"
      ],
      "metadata": {
        "colab": {
          "base_uri": "https://localhost:8080/",
          "height": 1000
        },
        "id": "eZ3366Y8AnRS",
        "outputId": "c6a25a98-6033-43d8-b517-c8294b04f0de"
      },
      "execution_count": 117,
      "outputs": [
        {
          "output_type": "stream",
          "name": "stdout",
          "text": [
            "Dataset:  14300\n",
            "Descriptions: train= 14136\n",
            "Photos: train= 14300\n",
            "Vocabulary Size: 21457\n",
            "Description Length:  94\n",
            "Model: \"model_7\"\n",
            "__________________________________________________________________________________________________\n",
            " Layer (type)                   Output Shape         Param #     Connected to                     \n",
            "==================================================================================================\n",
            " input_53 (InputLayer)          [(None, 94)]         0           []                               \n",
            "                                                                                                  \n",
            " input_52 (InputLayer)          [(None, 2048)]       0           []                               \n",
            "                                                                                                  \n",
            " embedding_7 (Embedding)        (None, 94, 256)      5492992     ['input_53[0][0]']               \n",
            "                                                                                                  \n",
            " dropout_16 (Dropout)           (None, 2048)         0           ['input_52[0][0]']               \n",
            "                                                                                                  \n",
            " dropout_17 (Dropout)           (None, 94, 256)      0           ['embedding_7[0][0]']            \n",
            "                                                                                                  \n",
            " dense_23 (Dense)               (None, 256)          524544      ['dropout_16[0][0]']             \n",
            "                                                                                                  \n",
            " lstm_7 (LSTM)                  (None, 256)          525312      ['dropout_17[0][0]']             \n",
            "                                                                                                  \n",
            " add_403 (Add)                  (None, 256)          0           ['dense_23[0][0]',               \n",
            "                                                                  'lstm_7[0][0]']                 \n",
            "                                                                                                  \n",
            " dense_24 (Dense)               (None, 256)          65792       ['add_403[0][0]']                \n",
            "                                                                                                  \n",
            " dense_25 (Dense)               (None, 21457)        5514449     ['dense_24[0][0]']               \n",
            "                                                                                                  \n",
            "==================================================================================================\n",
            "Total params: 12,123,089\n",
            "Trainable params: 12,123,089\n",
            "Non-trainable params: 0\n",
            "__________________________________________________________________________________________________\n",
            "None\n",
            "Epoch 1/10\n",
            "10000/10000 [==============================] - 2255s 225ms/step - loss: 4.8769\n",
            "Epoch 2/10\n",
            "10000/10000 [==============================] - 2252s 225ms/step - loss: 4.3412\n",
            "Epoch 3/10\n",
            "10000/10000 [==============================] - 2258s 226ms/step - loss: 4.1339\n",
            "Epoch 4/10\n",
            "10000/10000 [==============================] - 2233s 223ms/step - loss: 4.0179\n",
            "Epoch 5/10\n",
            "10000/10000 [==============================] - 2213s 221ms/step - loss: 3.9649\n",
            "Epoch 6/10\n",
            "10000/10000 [==============================] - 2210s 221ms/step - loss: 3.9302\n",
            "Epoch 7/10\n",
            "10000/10000 [==============================] - 2220s 222ms/step - loss: 3.8977\n",
            "Epoch 8/10\n",
            "10000/10000 [==============================] - 2216s 222ms/step - loss: 3.8695\n",
            "Epoch 9/10\n",
            "10000/10000 [==============================] - 2215s 221ms/step - loss: 3.8648\n",
            "Epoch 10/10\n",
            "10000/10000 [==============================] - 2216s 222ms/step - loss: 3.8535\n"
          ]
        },
        {
          "output_type": "display_data",
          "data": {
            "text/plain": [
              "<Figure size 432x288 with 1 Axes>"
            ],
            "image/png": "[encoded data removed]"
          },
          "metadata": {
            "needs_background": "light"
          }
        }
      ]
    },
    {
      "cell_type": "code",
      "source": [
        "  "
      ],
      "metadata": {
        "id": "mFI-GVnmxubw"
      },
      "execution_count": null,
      "outputs": []
    },
    {
      "cell_type": "code",
      "source": [
        "import matplotlib.pyplot as plt\n",
        "\n",
        "print('Dataset: ', len(train_imgs))\n",
        "print('Descriptions: train=', len(train_descriptions))\n",
        "print('Photos: train=', len(train_features))\n",
        "print('Vocabulary Size:', vocab_size)\n",
        "print('Description Length: ', max_length)\n",
        "\n",
        "model = define_model(vocab_size, max_length)\n",
        "epochs = 2\n",
        "steps = 1000 #len(train_descriptions)\n",
        "# making a directory models to save our models\n",
        "# os.mkdir(\"models\")\n",
        "\n",
        "# 6 epochs is best - lowest loss\n",
        "\n",
        "generator = data_generator(train_descriptions, train_features, tokenizer, max_length)\n",
        "training = model.fit(generator, epochs=10, steps_per_epoch=steps, verbose=1)\n",
        "plt.plot(training.history[\"loss\"], label=\"Training Loss\")\n",
        "plt.legend()\n",
        "plt.xlabel(\"epochs\")\n",
        "plt.ylabel(\"loss\")\n",
        "plt.show()\n",
        "model.save(\"models/model_1\" + \".h5\")"
      ],
      "metadata": {
        "id": "5hG4zWJQ3QrG",
        "colab": {
          "base_uri": "https://localhost:8080/",
          "height": 1000
        },
        "outputId": "31437974-8f62-4641-8eb5-5484be94fe34"
      },
      "execution_count": null,
      "outputs": [
        {
          "output_type": "stream",
          "name": "stdout",
          "text": [
            "Dataset:  13000\n",
            "Descriptions: train= 12847\n",
            "Photos: train= 13000\n",
            "Vocabulary Size: 19722\n",
            "Description Length:  197\n",
            "Model: \"model_1\"\n",
            "__________________________________________________________________________________________________\n",
            " Layer (type)                   Output Shape         Param #     Connected to                     \n",
            "==================================================================================================\n",
            " input_4 (InputLayer)           [(None, 197)]        0           []                               \n",
            "                                                                                                  \n",
            " input_3 (InputLayer)           [(None, 2048)]       0           []                               \n",
            "                                                                                                  \n",
            " embedding_1 (Embedding)        (None, 197, 256)     5048832     ['input_4[0][0]']                \n",
            "                                                                                                  \n",
            " dropout_2 (Dropout)            (None, 2048)         0           ['input_3[0][0]']                \n",
            "                                                                                                  \n",
            " dropout_3 (Dropout)            (None, 197, 256)     0           ['embedding_1[0][0]']            \n",
            "                                                                                                  \n",
            " dense_3 (Dense)                (None, 256)          524544      ['dropout_2[0][0]']              \n",
            "                                                                                                  \n",
            " lstm_1 (LSTM)                  (None, 256)          525312      ['dropout_3[0][0]']              \n",
            "                                                                                                  \n",
            " add_1 (Add)                    (None, 256)          0           ['dense_3[0][0]',                \n",
            "                                                                  'lstm_1[0][0]']                 \n",
            "                                                                                                  \n",
            " dense_4 (Dense)                (None, 256)          65792       ['add_1[0][0]']                  \n",
            "                                                                                                  \n",
            " dense_5 (Dense)                (None, 19722)        5068554     ['dense_4[0][0]']                \n",
            "                                                                                                  \n",
            "==================================================================================================\n",
            "Total params: 11,233,034\n",
            "Trainable params: 11,233,034\n",
            "Non-trainable params: 0\n",
            "__________________________________________________________________________________________________\n",
            "None\n",
            "Epoch 1/10\n",
            "1000/1000 [==============================] - 429s 426ms/step - loss: 5.6888\n",
            "Epoch 2/10\n",
            "1000/1000 [==============================] - 421s 421ms/step - loss: 5.0020\n",
            "Epoch 3/10\n",
            "1000/1000 [==============================] - 418s 418ms/step - loss: 4.8599\n",
            "Epoch 4/10\n",
            "1000/1000 [==============================] - 417s 417ms/step - loss: 4.8750\n",
            "Epoch 5/10\n",
            "1000/1000 [==============================] - 416s 416ms/step - loss: 4.6757\n",
            "Epoch 6/10\n",
            "1000/1000 [==============================] - 416s 416ms/step - loss: 4.4859\n",
            "Epoch 7/10\n",
            "1000/1000 [==============================] - 415s 415ms/step - loss: 4.5917\n",
            "Epoch 8/10\n",
            "1000/1000 [==============================] - 416s 416ms/step - loss: 4.6924\n",
            "Epoch 9/10\n",
            "1000/1000 [==============================] - 433s 433ms/step - loss: 4.6351\n",
            "Epoch 10/10\n",
            "1000/1000 [==============================] - 415s 415ms/step - loss: 4.3923\n"
          ]
        },
        {
          "output_type": "display_data",
          "data": {
            "text/plain": [
              "<Figure size 432x288 with 1 Axes>"
            ],
            "image/png": "[encoded data removed]"
          },
          "metadata": {
            "needs_background": "light"
          }
        }
      ]
    },
    {
      "cell_type": "code",
      "source": [
        "# 2000, 5000, 7000, 10000 steps\n",
        "# 5 epochs, 10"
      ],
      "metadata": {
        "id": "DkgtMnHQF7Z6"
      },
      "execution_count": null,
      "outputs": []
    },
    {
      "cell_type": "code",
      "source": [
        "import numpy as np\n",
        "from PIL import Image\n",
        "import matplotlib.pyplot as plt\n",
        "\n",
        "def extract_features(filename, model):\n",
        "  try:\n",
        "            image = Image.open(filename)\n",
        "  except:\n",
        "            print(\"ERROR: Can't open image! Ensure that image path and extension is correct\")\n",
        "            return\n",
        "  image = image.resize((299,299))\n",
        "  image = np.array(image)\n",
        "  # for 4 channels images, we need to convert them into 3 channels\n",
        "  if image.shape[2] == 4:\n",
        "        image = image[..., :3]\n",
        "  image = np.expand_dims(image, axis=0)\n",
        "  image = image / 127.5\n",
        "  image = image - 1.0\n",
        "  feature = model.predict(image)\n",
        "  return feature\n",
        "\n",
        "def word_for_id(integer, tokenizer):\n",
        "  for word, index in tokenizer.word_index.items():\n",
        "    if index == integer:\n",
        "      return word\n",
        "  return None\n",
        "\n",
        "def generate_desc(model, tokenizer, photo, max_length):\n",
        "    in_text = 'start'\n",
        "    for i in range(max_length):\n",
        "          sequence = tokenizer.texts_to_sequences([in_text])[0]\n",
        "          sequence = pad_sequences([sequence], maxlen=max_length)\n",
        "          pred = model.predict([photo,sequence], verbose=0)\n",
        "          pred = np.argmax(pred)\n",
        "          word = word_for_id(pred, tokenizer)\n",
        "          if word is None:\n",
        "                    break\n",
        "          in_text += ' ' + word\n",
        "          if word == 'end':\n",
        "                    break\n",
        "    return in_text\n",
        "\n",
        "max_length = 94\n",
        "tokenizer = load(open(\"tokenizer.p\",\"rb\"))\n",
        "xception_model = Xception(include_top=False, pooling=\"avg\")\n",
        "img = \"images/\" + test_imgs[89]\n",
        "photo = extract_features(img, xception_model)\n",
        "img = Image.open(img)\n",
        "description = generate_desc(model, tokenizer, photo, max_length)\n",
        "print(\"nn\")\n",
        "print(description)\n",
        "plt.imshow(img)"
      ],
      "metadata": {
        "id": "MfNjpCwVQATJ",
        "colab": {
          "base_uri": "https://localhost:8080/",
          "height": 321
        },
        "outputId": "ee2e3ccb-7b97-4eb6-ae0f-6e23f3b50b8b"
      },
      "execution_count": 132,
      "outputs": [
        {
          "output_type": "stream",
          "name": "stdout",
          "text": [
            "nn\n",
            "start the colors are very not and the colors are very calming end\n"
          ]
        },
        {
          "output_type": "execute_result",
          "data": {
            "text/plain": [
              "<matplotlib.image.AxesImage at 0x7fe413ab2c50>"
            ]
          },
          "metadata": {},
          "execution_count": 132
        },
        {
          "output_type": "display_data",
          "data": {
            "text/plain": [
              "<Figure size 432x288 with 1 Axes>"
            ],
            "image/png": "[encoded data removed]"
          },
          "metadata": {
            "needs_background": "light"
          }
        }
      ]
    },
    {
      "cell_type": "code",
      "source": [
        "from nltk.translate.bleu_score import corpus_bleu, sentence_bleu\n",
        "from nltk.translate.bleu_score import SmoothingFunction\n",
        "smoothie = SmoothingFunction().method4"
      ],
      "metadata": {
        "id": "8mjSWDjDC3Jk"
      },
      "execution_count": 112,
      "outputs": []
    },
    {
      "cell_type": "code",
      "source": [
        "def compute_bleu(imgs):\n",
        "  xception_model = Xception(include_top=False, pooling=\"avg\")\n",
        "  test_img_scores = defaultdict(float)\n",
        "  for i, img in enumerate(imgs):\n",
        "    imgName = \"images/\" + img\n",
        "    photo = extract_features(imgName, xception_model)\n",
        "    #img = Image.open(img)\n",
        "    description = generate_desc(model, tokenizer, photo, max_length)\n",
        "    caption = ' '.join(description.split()[1 : -1])\n",
        "    bleu_score = sentence_bleu([true_caption.split()[1 : -1] for true_caption in test_descriptions[img[:-4]]], caption.split(), smoothing_function=smoothie)\n",
        "    test_img_scores[img] = bleu_score\n",
        "  return test_img_scores\n"
      ],
      "metadata": {
        "id": "EO0uLGZMDn1L"
      },
      "execution_count": 113,
      "outputs": []
    },
    {
      "cell_type": "code",
      "source": [
        "compute_bleu(test_imgs[:20])"
      ],
      "metadata": {
        "colab": {
          "base_uri": "https://localhost:8080/"
        },
        "id": "Pej4BpJ8HhpH",
        "outputId": "717b23d6-2945-4387-84ed-5a1bd295baa0"
      },
      "execution_count": 133,
      "outputs": [
        {
          "output_type": "execute_result",
          "data": {
            "text/plain": [
              "defaultdict(float,\n",
              "            {'adolphe-joseph-thomas-monticelli_gallant-party.jpg': 0.2541381286755765,\n",
              "             'agnes-martin_the-islands-1979.jpg': 0.2332130329059486,\n",
              "             'albert-bierstadt_elk.jpg': 0.21627972701344117,\n",
              "             'albrecht-durer_studies-of-a-calvary.jpg': 0.25540778661907937,\n",
              "             'alfred-sisley_near-moret-1891.jpg': 0.2307869877265558,\n",
              "             'alvaro-lapa_unknown-title-7.jpg': 0.2901992735031966,\n",
              "             'amedeo-modigliani_seated-boy-with-cap-1918.jpg': 0.24324605660109083,\n",
              "             'anthony-van-dyck_deposition-1634.jpg': 0.21627972701344117,\n",
              "             'arkhip-kuindzhi_crescent-moon-at-sunset.jpg': 0.20454473702045944,\n",
              "             'bartolome-esteban-murillo_st-john-the-baptist-as-a-child.jpg': 0.21627972701344117,\n",
              "             'bartolome-esteban-murillo_the-immaculate-conception-oil-on-canvas.jpg': 0.20454473702045944,\n",
              "             'basuki-abdullah_nudtiy.jpg': 0.25540778661907937,\n",
              "             'boris-kustodiev_portrait-v-a-kastalsky-1921.jpg': 0.21193898507963427,\n",
              "             'brice-marden_untitled-press-series-1972-1.jpg': 0.2506037128701066,\n",
              "             'burhan-dogancay_switzerland-geneva-wall-1999.jpg': 0.25540778661907937,\n",
              "             'camille-pissarro_portrait-of-rodo-pissarro-reading.jpg': 0.25540778661907937,\n",
              "             'childe-hassam_union-square.jpg': 0.2307869877265558,\n",
              "             'claude-monet_hauling-a-boat-ashore-honfleur.jpg': 0.20454473702045944,\n",
              "             'claude-monet_the-sailing-boat.jpg': 0.20454473702045944,\n",
              "             'corneille_two-birds-2002.jpg': 0.2572013901952304})"
            ]
          },
          "metadata": {},
          "execution_count": 133
        }
      ]
    }
  ]
}